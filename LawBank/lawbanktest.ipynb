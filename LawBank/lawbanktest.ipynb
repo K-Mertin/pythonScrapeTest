{
 "cells": [
  {
   "cell_type": "code",
   "execution_count": 113,
   "metadata": {
    "collapsed": true
   },
   "outputs": [],
   "source": [
    "from selenium import webdriver\n",
    "from selenium.common.exceptions import NoSuchElementException"
   ]
  },
  {
   "cell_type": "code",
   "execution_count": 154,
   "metadata": {
    "collapsed": true
   },
   "outputs": [],
   "source": [
    "options = webdriver.ChromeOptions()\n",
    "options.binary_location = 'C:\\Program Files (x86)\\Google\\Chrome\\Application\\chrome.exe'\n",
    "\n",
    "options.add_argument('headless')\n",
    "options.add_argument('incognito')\n",
    "driver = webdriver.Chrome(chrome_options=options)\n"
   ]
  },
  {
   "cell_type": "code",
   "execution_count": 155,
   "metadata": {
    "collapsed": true
   },
   "outputs": [],
   "source": [
    "#driver.get('http://fyjud.lawbank.com.tw/listmenu2.aspx?courtFullName=TPSV&v_court=&v_sys=&jud_year=&jud_case=&jud_no=&jud_title=&jud_jmain=&keyword=%E9%81%A0%E9%9B%84&sdate=&edate=&file=&page=&id=&searchkw=%E9%81%A0%E9%9B%84&jcatagory=0&switchFrom=&issimple=-1&jminmoney=&jmaxmoney=&jminyear=&jmaxyear=&txtjudge=&txtlawyer=&lc1a=&lc1b=&lc1c=#')\n",
    "driver.get('http://fyjud.lawbank.com.tw/index.aspx')"
   ]
  },
  {
   "cell_type": "code",
   "execution_count": 156,
   "metadata": {
    "collapsed": true
   },
   "outputs": [],
   "source": [
    "elements =driver.find_elements_by_css_selector('input[type=checkbox]')"
   ]
  },
  {
   "cell_type": "code",
   "execution_count": 157,
   "metadata": {
    "collapsed": true
   },
   "outputs": [],
   "source": [
    "for element in elements:\n",
    "    if not element.is_selected():\n",
    "        element.click()"
   ]
  },
  {
   "cell_type": "code",
   "execution_count": 158,
   "metadata": {
    "collapsed": true
   },
   "outputs": [],
   "source": [
    "keyword = driver.find_element_by_id('kw')\n",
    "keyword.clear()\n",
    "keyword.send_keys('郭國勝')"
   ]
  },
  {
   "cell_type": "code",
   "execution_count": 159,
   "metadata": {
    "collapsed": true
   },
   "outputs": [],
   "source": [
    "submit =driver.find_element_by_css_selector('input[alt=送出查詢]')"
   ]
  },
  {
   "cell_type": "code",
   "execution_count": 160,
   "metadata": {
    "collapsed": true
   },
   "outputs": [],
   "source": [
    " form = driver.find_element_by_id('form1')\n",
    "form.submit()"
   ]
  },
  {
   "cell_type": "code",
   "execution_count": 161,
   "metadata": {
    "collapsed": true
   },
   "outputs": [],
   "source": [
    "driver.switch_to_frame('menuFrame')"
   ]
  },
  {
   "cell_type": "code",
   "execution_count": 162,
   "metadata": {
    "collapsed": true
   },
   "outputs": [],
   "source": [
    "lists = driver.find_elements_by_css_selector('li')"
   ]
  },
  {
   "cell_type": "code",
   "execution_count": 163,
   "metadata": {},
   "outputs": [
    {
     "name": "stdout",
     "output_type": "stream",
     "text": [
      "裁判字號： 最高法院 100 年度 台上 字第 574 號民事判決 \n",
      "下一筆｜\n",
      "裁判字號： 最高法院 98 年度 台上 字第 1937 號民事判決 \n",
      "裁判字號： 最高法院 97 年度 台上 字第 610 號民事判決 [被引用 2 次]\n",
      "裁判字號： 最高法院 92 年度 台上 字第 2623 號刑事判決 [被引用 2 次]\n",
      "下一筆｜\n",
      "裁判字號： 最高法院 89 年度 台上 字第 3317 號刑事判決 \n",
      "裁判字號： 臺灣高等法院 91 年度 重上更(六) 字第 192 號刑事判決 \n",
      "\n",
      "裁判字號： 台中高等行政法院 100 年度 訴 字第 260 號行政判決 \n",
      "\n",
      "裁判字號： 臺灣高等法院 臺南分院 97 年度 上更(一) 字第 20 號民事判決 \n",
      "下一筆｜\n",
      "裁判字號： 臺灣高等法院 臺南分院 96 年度 上 字第 18 號民事判決 \n",
      "裁判字號： 臺灣高等法院 高雄分院 101 年度 上訴 字第 272 號刑事判決 [被引用 5 次]\n",
      "下一筆｜\n",
      "裁判字號： 臺灣高等法院 高雄分院 92 年度 上易 字第 1012 號刑事判決 \n",
      "裁判字號： 臺灣新北地方法院 103 年度 易 字第 684 號刑事判決 \n",
      "\n",
      "裁判字號： 臺灣台北地方法院 101 年度 司促 字第 14613 號民事裁定 \n",
      "下一筆｜\n",
      "裁判字號： 臺灣台北地方法院 99 年度 重勞訴 字第 5 號民事裁定 [被引用 1 次]\n",
      "裁判字號： 臺灣台北地方法院 99 年度 重勞訴 字第 5 號民事裁定 [被引用 1 次]\n",
      "裁判字號： 臺灣台北地方法院 99 年度 重勞訴 字第 5 號民事判決 [被引用 1 次]\n",
      "裁判字號： 臺灣台北地方法院 94 年度 交易 字第 247 號刑事判決 \n",
      "\n",
      "裁判字號： 臺灣士林地方法院 102 年度 聲 字第 1288 號刑事裁定 \n",
      "下一筆｜\n",
      "裁判字號： 臺灣士林地方法院 102 年度 審訴 字第 121 號刑事判決 [被引用 1 次]\n",
      "裁判字號： 臺灣臺中地方法院 105 年度 司促 字第 7815 號民事其他 [被引用 2 次]\n",
      "下一筆｜\n",
      "裁判字號： 臺灣臺中地方法院 105 年度 司促 字第 7815 號民事裁定 [被引用 2 次]\n",
      "裁判字號： 臺灣臺中地方法院 93 年度 聲 字第 246 號民事裁定 \n",
      "裁判字號： 臺灣臺南地方法院 99 年度 南簡 字第 1018 號民事判決 \n",
      "下一筆｜\n",
      "裁判字號： 臺灣臺南地方法院 94 年度 訴 字第 634 號民事判決 [被引用 2 次]\n",
      "裁判字號： 臺灣屏東地方法院 99 年度 訴 字第 129 號刑事判決 [被引用 1 次]\n",
      "\n"
     ]
    }
   ],
   "source": [
    "driver.switch_to_default_content()\n",
    "driver.switch_to_frame('menuFrame')\n",
    "lists = driver.find_elements_by_css_selector('li')\n",
    "\n",
    "courts = []\n",
    "\n",
    "\n",
    "for li in lists:\n",
    "    if not li.text.endswith('(0)'):\n",
    "        courts.append(li.find_element_by_css_selector('a').get_attribute('href'))\n",
    "\n",
    "for c in courts:\n",
    "    driver.get(c)\n",
    "    driver.find_elements_by_css_selector('#table3 a')[0].click()\n",
    "    print(driver.find_element_by_css_selector('.Table-List tr:nth-child(1)').text)\n",
    "    \n",
    "    nextPage = driver.find_element_by_css_selector('tbody > tr:nth-child(1) > td:nth-child(2) > a:nth-child(3)')\n",
    "    \n",
    "    print(nextPage.text)\n",
    "    while nextPage.is_displayed():\n",
    "        nextPage.click()\n",
    "        print(driver.find_element_by_css_selector('.Table-List tr:nth-child(1)').text)\n",
    "        nextPage = driver.find_element_by_css_selector('tbody > tr:nth-child(1) > td:nth-child(2) > a:nth-child(3)')\n",
    "\n",
    "    \n",
    "#     print(c)\n",
    "#         print(li.find_element_by_css_selector('a').get_attribute('href'))\n",
    "#         li.find_element_by_css_selector('a').click()\n",
    "#         driver.switch_to_default_content()\n",
    "#         driver.switch_to_frame('contentFrame')\n",
    "        \n",
    "#         driver.find_elements_by_css_selector('#table3 a')[0].click()\n",
    "#         print(driver.find_element_by_css_selector('.Table-List tr:nth-child(1)').text)\n",
    "#         time.sleep(1)\n",
    "#         nextPage = driver.find_element_by_css_selector('tbody > tr:nth-child(1) > td:nth-child(2) > a:nth-child(3)')\n",
    "#         print(nextPage.text)\n",
    "#         while nextPage.is_displayed():\n",
    "#             nextPage.click()\n",
    "#             print(driver.find_element_by_css_selector('.Table-List tr:nth-child(1)').text)\n",
    "#             nextPage = driver.find_element_by_css_selector('tbody > tr:nth-child(1) > td:nth-child(2) > a:nth-child(3)')\n",
    "        \n",
    "#         driver.switch_to_default_content()\n",
    "#         driver.switch_to_frame('menuFrame')\n"
   ]
  },
  {
   "cell_type": "code",
   "execution_count": null,
   "metadata": {
    "collapsed": true
   },
   "outputs": [],
   "source": []
  },
  {
   "cell_type": "code",
   "execution_count": 70,
   "metadata": {
    "collapsed": true
   },
   "outputs": [],
   "source": [
    "adriver.switch_to_default_content()"
   ]
  },
  {
   "cell_type": "code",
   "execution_count": 71,
   "metadata": {},
   "outputs": [],
   "source": [
    "driver.switch_to_frame('contentFrame')\n",
    "import time"
   ]
  },
  {
   "cell_type": "code",
   "execution_count": 72,
   "metadata": {},
   "outputs": [
    {
     "name": "stdout",
     "output_type": "stream",
     "text": [
      "裁判字號： 最高法院 100 年度 台上 字第 574 號民事判決 \n",
      "裁判字號： 最高法院 98 年度 台上 字第 1937 號民事判決 \n",
      "裁判字號： 最高法院 97 年度 台上 字第 610 號民事判決 [被引用 2 次]\n"
     ]
    }
   ],
   "source": [
    "driver.find_elements_by_css_selector('#table3 a')[0].click()\n",
    "print(driver.find_element_by_css_selector('.Table-List tr:nth-child(1)').text)\n",
    "\n",
    "nextPage = driver.find_element_by_css_selector('tbody > tr:nth-child(1) > td:nth-child(2) > a:nth-child(3)')\n",
    "\n",
    "while nextPage.is_displayed():\n",
    "    nextPage.click()\n",
    "    print(driver.find_element_by_css_selector('.Table-List tr:nth-child(1)').text)\n",
    "    nextPage = driver.find_element_by_css_selector('tbody > tr:nth-child(1) > td:nth-child(2) > a:nth-child(3)')\n",
    "\n"
   ]
  },
  {
   "cell_type": "code",
   "execution_count": 62,
   "metadata": {},
   "outputs": [
    {
     "data": {
      "text/plain": [
       "False"
      ]
     },
     "execution_count": 62,
     "metadata": {},
     "output_type": "execute_result"
    }
   ],
   "source": [
    "driver.find_element_by_css_selector('tbody > tr:nth-child(1) > td:nth-child(2) > a:nth-child(3)').is_displayed()\n"
   ]
  },
  {
   "cell_type": "code",
   "execution_count": 33,
   "metadata": {},
   "outputs": [
    {
     "ename": "IndexError",
     "evalue": "list index out of range",
     "output_type": "error",
     "traceback": [
      "\u001b[1;31m---------------------------------------------------------------------------\u001b[0m",
      "\u001b[1;31mIndexError\u001b[0m                                Traceback (most recent call last)",
      "\u001b[1;32m<ipython-input-33-6c913ccfa629>\u001b[0m in \u001b[0;36m<module>\u001b[1;34m()\u001b[0m\n\u001b[1;32m----> 1\u001b[1;33m \u001b[0melements\u001b[0m\u001b[1;33m[\u001b[0m\u001b[1;36m0\u001b[0m\u001b[1;33m]\u001b[0m\u001b[1;33m.\u001b[0m\u001b[0mclick\u001b[0m\u001b[1;33m(\u001b[0m\u001b[1;33m)\u001b[0m\u001b[1;33m\u001b[0m\u001b[0m\n\u001b[0m",
      "\u001b[1;31mIndexError\u001b[0m: list index out of range"
     ]
    }
   ],
   "source": [
    "elements[0].click()"
   ]
  },
  {
   "cell_type": "code",
   "execution_count": 25,
   "metadata": {},
   "outputs": [
    {
     "name": "stdout",
     "output_type": "stream",
     "text": [
      "裁判字號： 最高法院 100 年度 台上 字第 574 號民事判決 \n"
     ]
    }
   ],
   "source": [
    "print(driver.find_element_by_css_selector('.Table-List tr:nth-child(1)').text)"
   ]
  },
  {
   "cell_type": "code",
   "execution_count": 29,
   "metadata": {
    "collapsed": true
   },
   "outputs": [],
   "source": [
    "driver.back()"
   ]
  },
  {
   "cell_type": "code",
   "execution_count": null,
   "metadata": {
    "collapsed": true
   },
   "outputs": [],
   "source": []
  },
  {
   "cell_type": "code",
   "execution_count": null,
   "metadata": {
    "collapsed": true
   },
   "outputs": [],
   "source": []
  },
  {
   "cell_type": "code",
   "execution_count": null,
   "metadata": {
    "collapsed": true
   },
   "outputs": [],
   "source": []
  },
  {
   "cell_type": "code",
   "execution_count": null,
   "metadata": {
    "collapsed": true
   },
   "outputs": [],
   "source": []
  },
  {
   "cell_type": "markdown",
   "metadata": {
    "collapsed": true
   },
   "source": [
    "## driver.backa"
   ]
  },
  {
   "cell_type": "code",
   "execution_count": 123,
   "metadata": {
    "collapsed": true
   },
   "outputs": [],
   "source": [
    "elements[0].click()"
   ]
  },
  {
   "cell_type": "code",
   "execution_count": 124,
   "metadata": {},
   "outputs": [
    {
     "name": "stdout",
     "output_type": "stream",
     "text": [
      "http://fyjud.lawbank.com.tw/content3.aspx?p=zhioZvcTZ7I20Yu2ox5atGszxysmx3QpzJ63p35zugw%3d\n"
     ]
    }
   ],
   "source": [
    "print(driver.current_url)"
   ]
  },
  {
   "cell_type": "code",
   "execution_count": 125,
   "metadata": {
    "collapsed": true
   },
   "outputs": [],
   "source": [
    "article = driver.find_element_by_css_selector('.Table-List')"
   ]
  },
  {
   "cell_type": "code",
   "execution_count": 126,
   "metadata": {},
   "outputs": [
    {
     "name": "stdout",
     "output_type": "stream",
     "text": [
      "裁判字號： 最高法院 106 年度 台上 字第 930 號民事判決 \n",
      "裁判日期： 106.10.25\n",
      "裁判案由： 分配表異議之訴\n",
      "裁判全文：\n",
      "最高法院民事判決　　　　　　　　　　106年度台上字第930號\n",
      "上　訴　人　遠雄建設事業股份有限公司\n",
      "法定代理人　趙文嘉　\n",
      "訴訟代理人　陳淑芬律師\n",
      "　　　　　　陳宜鴻律師\n",
      "上　訴　人　弘華富股份有限公司\n",
      "　　　　　\n",
      "法定代理人　梁子瑛　\n",
      "訴訟代理人　符玉章律師\n",
      "上列當事人間分配表異議之訴事件，上訴人對於中華民國104 年\n",
      "9 月16日臺灣高等法院第二審判決（101 年度重上字第507 號）\n",
      "，兩造各自提起上訴，本院判決如下：\n",
      "    主  文\n",
      "原判決關於駁回上訴人遠雄建設事業股份有限公司請求台灣金融\n",
      "資產服務股份有限公司96年度板金拍字第114 號 (即臺灣新北地\n",
      "方法院93年度執字第38002號)強制執行事件，於民國106年6月13\n",
      "日就新亞電器股份有限公司製作之分配表次序80上訴人弘華富股\n",
      "份有限公司 (原名環華富股份有限公司）之分配金額由新臺幣伍\n",
      "億柒仟柒佰參拾柒萬肆仟玖佰零玖元減為新臺幣肆億柒仟貳佰陸\n",
      "拾肆萬陸仟玖佰貳拾柒元部分之訴；及駁回上訴人弘華富股份有\n",
      "限公司其餘上訴，暨各該訴訟費用部分廢棄，發回臺灣高等法院\n",
      "。\n",
      "    理  由\n",
      "本件上訴人環華富股份有限公司，於民國105 年4 月13日核准變\n",
      "更名稱為弘華富股份有限公司( 下稱弘華富公司) ，其法定代理\n",
      "人未變更，有經濟部105 年4 月13日經授中字第00000000000 號\n",
      "函及公司變更登記表可稽，先予敘明。\n",
      "其次，上訴人遠雄建設事業股份有限公司( 下稱遠雄公司) 主張\n",
      "：伊持臺灣高等法院92年度重上字第385 號，判命新亞電器股份\n",
      "有限公司【下稱新亞公司，經臺灣臺北地方法院( 下稱臺北地院\n",
      ") 於75年10月16日以75年整字第1 號裁定重整，92年5 月28日裁\n",
      "定終止重整】應給付伊新臺幣( 下同)6,000萬元本息( 為公司法\n",
      "第312 條第1 項第1 款之重整債務) 之確定判決，於訴外人台灣\n",
      "金融資產服務股份有限公司( 下稱金服公司)96 年度板金拍字第\n",
      "114 號( 即臺灣新北地方法院93年度執字第38002 號) ，執行債\n",
      "務人為新亞公司之強制執行事件( 下稱系爭執行事件) ，聲明參\n",
      "與分配。金服公司於99年1月6日以20億0,252萬3,920元拍定新亞\n",
      "公司所有不動產，於99年6月22日作成分配表 (下稱原分配表)，\n",
      "原定於99年6月24日分配，嗣於100年6 月13日更正分配表 (下稱\n",
      "系爭分配表)，改定於100年6月24 日分配。對造上訴人弘華富公\n",
      "司持受讓自訴外人兆豐國際商業銀行股份有限公司（下稱兆豐銀\n",
      "行）前向臺灣士林地方法院 (下稱士林地院）聲准對新亞公司核\n",
      "發之97年度促字第24336 號支付命令【下稱97年支付命令，命新\n",
      "亞公司向兆豐銀行清償3億1,300萬8, 097元，及自84年7月1日起\n",
      "至清償日止，按週年利率20%以複利計算之利息 (下稱系爭債權)\n",
      "】，聲明參與分配，除於系爭分配表次序14以最優先債權獲分配\n",
      "1億6,800萬元外，另於次序80以42億9,558萬5,888元「重整債務\n",
      "」之次優先債權，獲分配6億0,571萬0,073 元。惟兆豐銀行係依\n",
      "新亞公司與訴外人大順行工程股份有限公司 (下稱大順行公司）\n",
      "於84年5月25 日簽訂，未經新亞公司重整監督人會議核定之協議\n",
      "書（下稱84年協議書），聲請核發97年支付命令，自不生效力，\n",
      "且不足以證明系爭債權係「重整債務」，縱認係「重整債務」，\n",
      "其以複利方式計算利息，違反民法第207 條規定，況其利息請求\n",
      "權亦已罹於時效，伊得代位新亞公司為時效抗辯。弘華富公司於\n",
      "新亞公司92年5月28 日經裁定終止重整後，採複利計算方式，將\n",
      "利息滾入原本所生之「本金」、「利息」，不得列為次優債權分\n",
      "配。又大順行公司持84年協議書，向士林地院聲准核發93年度促\n",
      "字第27873號支付命令 ( 下稱93年支付命令)後，於96年5月25日\n",
      "與弘華富公司簽訂債權買賣契約書，將其對新亞公司之債權2 億\n",
      "8,507萬2,126元，及為擔保該債權，於原台北縣新莊市○○段00\n",
      "0地號等13筆土地上所設定之抵押權1億6,800 萬元，暨該債權所\n",
      "生之利息、違約金、墊付款等，以1億5,000萬元之價金讓售弘華\n",
      "富公司，係基於通謀虛偽意思表示而無效，則弘華富公司復於96\n",
      "年6月間將上開債權信託讓與兆豐銀行，迨兆豐銀行取得97 年支\n",
      "付命令後，於98年10 月14 日終止信託關係，弘華富公司對新亞\n",
      "公司仍無系爭債權存在。93年、97年支付命令均未經合法送達，\n",
      "已失其效力，況97年支付命令為93年支付命令既判力所及，亦當\n",
      "然無效。金服公司誤將系爭分配表次序14弘華富公司分配不足部\n",
      "分列入次序80之次優債權，致弘華富公司分配6億0,571 萬0,073\n",
      "元，影響伊 (系爭分配表次序81次優債權）之權利。伊於99年12\n",
      "月8日收受原分配表 ( 嗣更正為系爭分配表)，於同年月14 日聲\n",
      "明異議，並於100年2 月1日收受弘華富公司反對陳述狀後之同年\n",
      "月8日，爰依強制執行法第41條第1項規定，提起分配表異議之訴\n",
      "等情，求為將系爭分配表次序80弘華富公司之分配金額6億0,571\n",
      "萬0,073元減為4億7,264萬6,927元之判決 (第一審將系爭分配表\n",
      "次序80弘華富公司分配金額應由6億0,571萬0,073元減為4億5,94\n",
      "2萬9,503元。原審改判系爭分配表次序80弘華富公司之分配金額\n",
      "逾5億7,737萬4,909 元部分廢棄，駁回該部分遠雄公司在第一審\n",
      "之訴，及弘華富公司其餘上訴。兩造各就所受不利判決部分，提\n",
      "起第三審上訴。另第一審判決命將弘華富公司之分配金額減至 4\n",
      "億5,942萬9,503元之訴外裁判部分，經原判決廢棄後，未據聲明\n",
      "不服)。\n",
      "上訴人弘華富公司則以：原分配表因未合法送達遠雄公司而無效\n",
      "，遠雄公司又未對系爭分配表合法聲明異議，其提起本件分配表\n",
      "異議之訴，於法不合。況本件訴訟標的異議權之範圍，以遠雄公\n",
      "司99年12月14日、100年6月24日聲明異議狀所載範圍為限。系爭\n",
      "分配表次序80實為次序14(第7順位抵押權1億6,800 萬元)分配不\n",
      "足部分，次序14之債權既無人爭執而確定有效，次序80「重整債\n",
      "務」之存在，自無可疑。系爭債權原本係「重整債務」，利息債\n",
      "權既具從屬性，不因新亞公司裁定終止重整而受影響，其以複利\n",
      "補計利息之約定符合民法第207條但書所定要件。至系爭97 年支\n",
      "付命令與確定判決有同一效力等語，資為抗辯。\n",
      "原審將第一審所為弘華富公司敗訴部分之判決，一部廢棄，改判\n",
      "駁回遠雄公司請求將系爭分配表次序80弘華富公司之分配金額關\n",
      "於5億7,737萬4,909元減至4億7,264萬6,927元部分之訴；另駁回\n",
      "弘華富公司 (關於其分配金額由6億0,571萬0,073元減為5億7,73\n",
      "7萬4,909元部分）之其餘上訴，係以：兩造均為系爭執行事件債\n",
      "務人新亞公司之債權人，遠雄公司於99年12月8 日收受原分配表\n",
      "(嗣於100年6月14日更正為系爭分配表)，同年月14日聲明異議，\n",
      "並於100年2月1日收受弘華富公司之反對陳述狀後，同年月8日向\n",
      "金服公司提出起訴證明，合於強制執行法第39條、第41條之規定\n",
      "。嗣因金服公司更正分配表，遠雄公司乃將其聲明變更，自無不\n",
      "合。新亞公司於75年10月16日經臺北地院裁定重整，於92年5 月\n",
      "28日裁定終止重整。弘華富公司以97年支付命令為執行名義，於\n",
      "系爭執行事件聲明參與分配等事實，為兩造所不爭執。遠雄公司\n",
      "99年12月14日聲明異議狀、100年2月8日本件起訴狀，及100 年6\n",
      "月24日聲明異議狀，均係聲明：「弘華富公司之次優債權…，該\n",
      "部分之債權應重新計算，將超過92年5月28 日重整期間末日之金\n",
      "額移除計入在普通債權中。」參之遠雄公司自陳其101年2月22日\n",
      "所為變更訴之聲明關於「…，於系爭分配表次序80弘華富公司之\n",
      "分配金額6億0,571萬0,073元應更正減為4億7,264萬6,927元」之\n",
      "計算方式，係扣除92年5月28 日以後至99年1月18日以20%複利計\n",
      "算之利息後所得出之金額，至84年7月1日起迄92年5月28 日止以\n",
      "20% 複利計算之利息，不在上述聲明剔除之範圍，足見本件遠雄\n",
      "公司訴之聲明，係請求法院將系爭分配表次序80弘華富公司之分\n",
      "配金額由6億0,571萬0,073元減為4億7,264萬6,927元。訴訟標的\n",
      "係遠雄公司對系爭分配表次序80弘華富公司分配金額之異議權，\n",
      "其聲明非主張弘華富公司之分配金額應由6億0,571萬0,073 元減\n",
      "為0元，是異議權之範圍，僅限於扣除92年5月28日起至99年1 月\n",
      "18日止以20%複利計算之金額後，將系爭分配表次序80 弘華富公\n",
      "司之分配金額6億0,571萬0,073元減為4億7,264萬6,927元部分。\n",
      "遠雄公司既非系爭97年支付命令既判力主觀範圍效力所及之人，\n",
      "自不受該支付命令既判力效力之拘束。觀諸民事聲請支付命令狀\n",
      "、84年協議書等件內容，可知97年支付命令所載本金債權係新亞\n",
      "公司自79年起陸續向大順行公司之借款，弘華富公司自大順行公\n",
      "司受讓該債權後，復於96年8月1日辦理信託讓與兆豐銀行，大順\n",
      "行公司與新亞公司間約定之利息折合週年利率，已逾民法第 205\n",
      "條所定最高利率之限制，惟97年支付命令命新亞公司負擔自84年\n",
      "7月1日起，按週年利率 20%以複利計算之利息，其中按單利計算\n",
      "部分，未逾上開最高利率之限制。揆諸公司法第312 條，及民法\n",
      "第295條第2項、第740條、第861條、第887 條規定，於新亞公司\n",
      "(92年5月28日經裁定）終止重整後所生之利息債權，仍應與其本\n",
      "金債權受相同保護，遠雄公司主張剔除此部分之利息債權，自屬\n",
      "無據。至按複利計算部分，新亞公司與大順行公司間上開借款，\n",
      "並無證據證明係屬「商業上之特別習慣」，亦不符民法第207 條\n",
      "但書規定，自不得將系爭債權所生之利息滾入本金再生利息。系\n",
      "爭債權雖屬重整債務，惟自92年5月28 日以後之利息，僅得以單\n",
      "利 20%計算。本件異議權範圍又僅限於遠雄公司訴之聲明範圍，\n",
      "則遠雄公司其餘主張均毋庸認定及判斷。從而，遠雄公司請求將\n",
      "系爭分配表次序80弘華富公司之分配金額由6億0,571萬0,073 元\n",
      "，減為5億7, 737萬4,909元部分，為有理由，應予准許，逾此部\n",
      "分之請求，為無理由，不應准許等詞，為其判斷之基礎。\n",
      "按對於分配表異議，應於分配期日一日前，向執行法院提出書狀\n",
      "，聲明異議。該異議書狀，應記載異議人所認原分配表之不當及\n",
      "應如何變更之聲明，此觀強制執行法第39條第1 、2 項規定即明\n",
      "。且此項異議不必附理由，蓋執行法院僅審查異議是否合法，不\n",
      "審查有無理由。又於多數債權人參與分配且執行所得不足以清償\n",
      "全部債權時，各債權人對於分配表所載債權之存否、有無優先受\n",
      "償之權、數額之計算等項，因攸關自己能否十足受償，自屬利害\n",
      "關係重大，而多極盡爭執之能事。凡依法定程序就某分配次序之\n",
      "債權存否、性質或數額聲明異議，並合法提起分配表異議之訴者\n",
      "，法院自應對之實質審理及判決。查遠雄公司就系爭分配表已合\n",
      "法聲明異議，並提起分配表異議之訴，為原審所是認，依上說明\n",
      "，遠雄公司就系爭分配表次序80所載弘華富公司債權之存否，性\n",
      "質及數額等均可爭執，乃原判決謂本件訴訟之異議權範圍僅限於\n",
      "遠雄公司之聲明異議範圍，其主張97年、93年支付命令是否無效\n",
      "？系爭債權是否不存在、無效？是否屬於重整債務？等均無庸審\n",
      "酌，進而為其不利之判斷，已有未合。次按判決書理由項下，應\n",
      "記載關於攻擊防禦方法之意見，民事訴訟法第226 條第3 項定有\n",
      "明文，法院為原告或被告敗訴之判決，而其關於攻擊或防禦方法\n",
      "之意見有未記載於判決理由項下者，即為同法第469 條第6 款所\n",
      "謂判決不備理由。弘華富公司於事實審提出附表16所載證據，抗\n",
      "辯大順行公司與新亞公司間先是以書面約定複利，後於新亞公司\n",
      "遲付利息達一年以上，經多次催告後而不償還，雙方約定於新亞\n",
      "公司違約時，回溯( 回復) 自「80年協議書」簽訂日(80 年11月\n",
      "1日)起「應按月息2分複利補計利息」等語 (見原審卷(九)第56頁)\n",
      "，倘非子虛，即攸關弘華富公司系爭債權得否以複利計算之判斷\n",
      "，自屬重要之攻擊方法，原審未於判決理由項下說明其取捨之意\n",
      "見，反謂系爭債權之債權人均未依法於系爭債權利息遲付逾1 年\n",
      "後，催告新亞公司繳納利息 (見原判決第13頁），亦有未合。此\n",
      "外，原判決謂遠雄公司主張系爭分配表次序80弘華富公司之分配\n",
      "金額由6億0,571萬0,073元，減為5億7,737萬4,909元（計算明細\n",
      "及分配比率，詳如附表所示）部分，應屬有據 (見原判決第13頁\n",
      "），是該附表內容，與遠雄公司提起本件分配表異議之訴，主張\n",
      "剔除弘華富公司分配金額之內容是否有理由，所關頗切，惟遍觀\n",
      "原判決全文，並無任何附表，於法尤有未合。兩造上訴論旨，各\n",
      "自指摘原判決於其不利部分違背法令，求予廢棄，均非無理由。\n",
      "據上論結，本件兩造上訴均為有理由。依民事訴訟法第447 條第\n",
      "1項、第478條第2項，判決如主文。\n",
      "中    華    民    國   106    年    10    月    25    日\n",
      "                      最高法院民事第八庭\n",
      "                          審判長法官  王  仁  貴  \n",
      "                                法官  陳  駿  璧  \n",
      "                                法官  李  寶  堂  \n",
      "                                法官  鄭  純  惠  \n",
      "                                法官  滕  允  潔  \n",
      "本件正本證明與原本無異\n",
      "                                      書  記  官 \n",
      "中    華    民    國   106    年    11    月    6     日\n",
      "\n",
      "歷審裁判：\n",
      "1000502 臺灣新北地方法院100年度訴字821號裁定\n",
      "1010524 臺灣新北地方法院100年度訴字821號判決\n",
      "1040916 臺灣高等法院101年度重上字507號判決\n",
      "1041117 臺灣高等法院101年度重上字507號裁定\n",
      "1041117 臺灣高等法院101年度重上字507號裁定\n",
      "1050712 臺灣高等法院101年度重上字507號裁定\n",
      "1050712 臺灣高等法院101年度重上字507號裁定\n",
      "        臺灣高等法院106年度重上更(一)字147號\n",
      "相關法條：\n",
      "民法\n",
      "第205條\n",
      "約定利率，超過週年百分之二十者，債權人對於超過部分之利息，無請求\n",
      "權。\n",
      "第207條\n",
      "利息不得滾入原本再生利息。但當事人以書面約定，利息遲付逾一年後，\n",
      "經催告而不償還時，債權人得將遲付之利息滾入原本者，依其約定。\n",
      "前項規定，如商業上另有習慣者，不適用之。\n",
      "第295條\n",
      "讓與債權時，該債權之擔保及其他從屬之權利，隨同移轉於受讓人。但與\n",
      "讓與人有不可分離之關係者，不在此限。\n",
      "未支付之利息，推定其隨同原本移轉於受讓人。\n",
      "民事訴訟法\n",
      "第226條\n",
      "判決，應作判決書，記載下列各款事項：\n",
      "一、當事人姓名及住所或居所；當事人為法人、其他團體或機關者，其名\n",
      "    稱及公務所、事務所或營業所。\n",
      "二、有法定代理人、訴訟代理人者，其姓名、住所或居所。\n",
      "三、訴訟事件；判決經言詞辯論者，其言詞辯論終結日期。\n",
      "四、主文。\n",
      "五、事實。\n",
      "六、理由。\n",
      "七、年、月、日。\n",
      "八、法院。\n",
      "事實項下，應記載言詞辯論時當事人之聲明，並表明其聲明為正當之攻擊\n",
      "或防禦方法要領。\n",
      "理由項下，應記載關於攻擊或防禦方法之意見及法律上之意見。\n",
      "一造辯論判決及基於當事人就事實之全部自認所為之判決，其事實及理由\n",
      "得簡略記載之。\n",
      "第447條\n",
      "當事人不得提出新攻擊或防禦方法。但有下列情形之一者，不在此限：\n",
      "一、因第一審法院違背法令致未能提出者。\n",
      "二、事實發生於第一審法院言詞辯論終結後者。\n",
      "三、對於在第一審已提出之攻擊或防禦方法為補充者。\n",
      "四、事實於法院已顯著或為其職務上所已知或應依職權調查證據者。\n",
      "五、其他非可歸責於當事人之事由，致未能於第一審提出者。\n",
      "六、如不許其提出顯失公平者。\n",
      "前項但書各款事由，當事人應釋明之。\n",
      "違反前二項之規定者，第二審法院應駁回之。\n",
      "強制執行法\n",
      "第39條\n",
      "債權人或債務人對於分配表所載各債權人之債權或分配金額有不同意者，\n",
      "應於分配期日一日前，向執行法院提出書狀，聲明異議。\n",
      "前項書狀，應記載異議人所認原分配表之不當及應如何變更之聲明。\n",
      "第41條\n",
      "異議未終結者，為異議之債權人或債務人，得向執行法院對為反對陳述之\n",
      "債權人或債務人提起分配表異議之訴。但異議人已依同一事由就有爭執之\n",
      "債權先行提起其他訴訟者，毋庸再行起訴，執行法院應依該確定判決實行\n",
      "分配。\n",
      "債務人對於有執行名義而參與分配之債權人為異議者，僅得以第十四條規\n",
      "定之事由，提起分配表異議之訴。\n",
      "聲明異議人未於分配期日起十日內向執行法院為前二項起訴之證明者，視\n",
      "為撤回其異議之聲明；經證明者，該債權應受分配之金額，應行提存。\n",
      "前項期間，於第四十條之一有反對陳述之情形，自聲明異議人受通知之日\n",
      "起算。\n",
      "公司法\n",
      "第312條\n",
      "左列各款，為公司之重整債務，優先於重整債權而為清償：\n",
      "一、維持公司業務繼續營運所發生之債務。\n",
      "二、進行重整程序所發生之費用。\n",
      "前項優先受償權之效力，不因裁定終止重整而受影響。\n"
     ]
    }
   ],
   "source": [
    "print(article.text)"
   ]
  },
  {
   "cell_type": "code",
   "execution_count": 127,
   "metadata": {
    "collapsed": true
   },
   "outputs": [],
   "source": [
    "driver.back()"
   ]
  },
  {
   "cell_type": "code",
   "execution_count": 128,
   "metadata": {},
   "outputs": [
    {
     "name": "stdout",
     "output_type": "stream",
     "text": [
      "http://fyjud.lawbank.com.tw/content3.aspx?p=zhioZvcTZ7I20Yu2ox5atGszxysmx3QpzJ63p35zugw%3d\n",
      "http://fyjud.lawbank.com.tw/content3.aspx?p=C%2f9vdsINcHQjZGdmXAdeNp7D0BEy1Tj%2fx5Bz7FXp7e0%3d\n",
      "http://fyjud.lawbank.com.tw/content3.aspx?p=xAjtd0StmywTfhMELaADF2tGW1FBP0To9%2by9QdeY%2b5w%3d\n",
      "http://fyjud.lawbank.com.tw/content3.aspx?p=AR4yr%2fzMR%2b8cCBnsYRGgSQuWTKEacqOP8kda%2bhE1PGQ%3d\n",
      "http://fyjud.lawbank.com.tw/content3.aspx?p=DNgrmplnvkYKBHfsp3zJ5e9Ztr0XDHmLPYDFJGVUh94%3d\n",
      "http://fyjud.lawbank.com.tw/content3.aspx?p=YyxqvaSvsdk59l4Xlhfgscd8SFJ82FnGX1GCTkZglFk%3d\n",
      "http://fyjud.lawbank.com.tw/content3.aspx?p=6Ak9hSr53AzVskmBeV5wQQHhxdM8Tdpm3kNfRIK8Qsk%3d\n",
      "http://fyjud.lawbank.com.tw/content3.aspx?p=nm9zBs3W%2fHCCtM6rX7cWTyWcP3kRw%2bvieEnT0vmqh%2fU%3d\n",
      "http://fyjud.lawbank.com.tw/content3.aspx?p=q0jT9GKT2K5QlfUaXmO9babZH3hwrf5UFQQBf4A4EFY%3d\n",
      "http://fyjud.lawbank.com.tw/content3.aspx?p=bO%2bd2fBmDRhqqf2a44%2fiM0QgZeIdnhFghuRHy9NPTcQ%3d\n",
      "http://fyjud.lawbank.com.tw/content3.aspx?p=V6uW1baxzhNcmedDKPSU2H9%2fYxyDgJcmNwBBiza22dk%3d\n",
      "http://fyjud.lawbank.com.tw/content3.aspx?p=c5%2buJCngjaEiZrpmghcRr1yMHnQIRPdu0BVc4bIu9oc%3d\n",
      "http://fyjud.lawbank.com.tw/content3.aspx?p=0k%2bQ9aMD93FzKUh%2bvfzHGs0tGOZt6nPZhPaR%2bCHooIE%3d\n",
      "http://fyjud.lawbank.com.tw/content3.aspx?p=uxC71jWxWMepIta%2bLE7KE2BueLX243cNiz2C45ecoPs%3d\n",
      "http://fyjud.lawbank.com.tw/content3.aspx?p=2%2b5Z7d4vxDLATr6iGkbEdH0FZWELo5yvQuxEUXfSdWY%3d\n",
      "http://fyjud.lawbank.com.tw/content3.aspx?p=%2bSs%2bFxhsEm9q%2ftvE%2bmrXg%2bATgV7f6jt1Zd6XxKPwAQA%3d\n",
      "http://fyjud.lawbank.com.tw/content3.aspx?p=U7VH3Lwd06p8Nz8cUlFLLEgNZvOEfeUdxSSehb%2fv8vo%3d\n",
      "http://fyjud.lawbank.com.tw/content3.aspx?p=QrNnGmv%2f5lQ9YTE6HywLNn6d1fhqiphXDScWU%2f%2bczVQ%3d\n",
      "http://fyjud.lawbank.com.tw/content3.aspx?p=a9NBmusf%2f%2b79YHyj0EnDpfGmDoi5zITU1b5d0%2fbslcY%3d\n",
      "http://fyjud.lawbank.com.tw/content3.aspx?p=Ua7KRjUOdgIE3Vb6IKYOVe4KUW%2b%2fbAS12MGw%2fhYAG8M%3d\n"
     ]
    }
   ],
   "source": [
    "elements = driver.find_elements_by_css_selector('#table3 a')\n",
    "for link in elements:\n",
    "    print(link.get_attribute('href'))"
   ]
  },
  {
   "cell_type": "code",
   "execution_count": 133,
   "metadata": {
    "collapsed": true
   },
   "outputs": [],
   "source": [
    "nexPage = driver.find_element_by_id('lnkbtnOhmy1')"
   ]
  },
  {
   "cell_type": "code",
   "execution_count": 134,
   "metadata": {
    "collapsed": true
   },
   "outputs": [],
   "source": [
    "nexPage.click()"
   ]
  },
  {
   "cell_type": "code",
   "execution_count": 135,
   "metadata": {},
   "outputs": [
    {
     "name": "stdout",
     "output_type": "stream",
     "text": [
      "http://fyjud.lawbank.com.tw/content3.aspx?p=CPkGRegrRKCRBva2B5OwXPopkq1mnMyrhSlvnWQYTcA%3d\n",
      "http://fyjud.lawbank.com.tw/content3.aspx?p=ptLCIyhMO2Lcnbf17BNjCc1cMvE8GRenozQrc9awV8I%3d\n",
      "http://fyjud.lawbank.com.tw/content3.aspx?p=SmbRffBdh0JBpbj6ed9llPuwS0U0vNUK3Mxdn8aCwSY%3d\n",
      "http://fyjud.lawbank.com.tw/content3.aspx?p=VpgkJnAQh4m1Jc%2f0mm4RdAm9qctemLE1xhlsERjm4Qk%3d\n",
      "http://fyjud.lawbank.com.tw/content3.aspx?p=iIveMy2559lCnSobded%2f%2fxZV21%2ftnd2fu%2bPXd589dzw%3d\n",
      "http://fyjud.lawbank.com.tw/content3.aspx?p=rkOeZ84o23rM1k624pwK6oFaXndLsBd1QulX5EvGb%2f4%3d\n",
      "http://fyjud.lawbank.com.tw/content3.aspx?p=MzQNhtL2pD4MId2pzPCWcNthcsLRvh3PQacYsuCRuOU%3d\n",
      "http://fyjud.lawbank.com.tw/content3.aspx?p=KbMTwhoWZoV8zl0OCTaMTkp4kE7It0nq%2fHtAwvaDgYA%3d\n",
      "http://fyjud.lawbank.com.tw/content3.aspx?p=7VxfeP3WZISkf6x8yBon2g6fELGStxkkMghfBLyzB%2f0%3d\n",
      "http://fyjud.lawbank.com.tw/content3.aspx?p=uMszZq873RJOFIFgLZ6ObhocI9N%2bLRcvndq7fHD6DLs%3d\n",
      "http://fyjud.lawbank.com.tw/content3.aspx?p=4sejOMV9roBvb7FE1jhIczrzyO7e7NNgAOWGBdxa25s%3d\n",
      "http://fyjud.lawbank.com.tw/content3.aspx?p=jkAzUcOCqfC%2fkBdFR6yDMhInIMKdQP7drgEC%2ffXloUQ%3d\n",
      "http://fyjud.lawbank.com.tw/content3.aspx?p=i88Ln2TGIkUA49Bo2vJMdvMKBtgHF%2fQIpmnkR0vudOE%3d\n",
      "http://fyjud.lawbank.com.tw/content3.aspx?p=Q3ADbzMnNcRum19PuEGXJ6o0AEsD5%2fELGE2QPo3UZZ8%3d\n",
      "http://fyjud.lawbank.com.tw/content3.aspx?p=Awu1Yr%2fk3zugcSqnHNnmP6BIJWyqMmNmy6hUXSfl3iU%3d\n",
      "http://fyjud.lawbank.com.tw/content3.aspx?p=4CI6KY%2fIcgqh7K7dlwno6zMMITqmg8PHnjtrLAYOu84%3d\n",
      "http://fyjud.lawbank.com.tw/content3.aspx?p=DPVCxtq0QDqQAIFmPKUyRmN7stN%2boLrnDvWvSElm2kk%3d\n",
      "http://fyjud.lawbank.com.tw/content3.aspx?p=osN8jTVcltuUTuGJlzGx9E1zDZ7Mt%2f8FCkUp6NMR5As%3d\n",
      "http://fyjud.lawbank.com.tw/content3.aspx?p=MAmSnwkh3Xu0tDSCoE%2fhFgXNoeAhs59JE2t%2beVKzqb0%3d\n",
      "http://fyjud.lawbank.com.tw/content3.aspx?p=lAFbTKcn8pwbwCopg45kESp2Sznr7hRXBuYvxN2aDnk%3d\n"
     ]
    }
   ],
   "source": [
    "elements = driver.find_elements_by_css_selector('#table3 a')\n",
    "for link in elements:\n",
    "    print(link.get_attribute('href'))"
   ]
  },
  {
   "cell_type": "code",
   "execution_count": 132,
   "metadata": {},
   "outputs": [
    {
     "data": {
      "text/plain": [
       "'4'"
      ]
     },
     "execution_count": 132,
     "metadata": {},
     "output_type": "execute_result"
    }
   ],
   "source": [
    "str = driver.find_element_by_css_selector('tbody').text\n",
    "str.split('/')[1].split('頁')[0].strip()"
   ]
  },
  {
   "cell_type": "code",
   "execution_count": null,
   "metadata": {
    "collapsed": true
   },
   "outputs": [],
   "source": [
    "for "
   ]
  },
  {
   "cell_type": "code",
   "execution_count": null,
   "metadata": {
    "collapsed": true
   },
   "outputs": [],
   "source": []
  }
 ],
 "metadata": {
  "kernelspec": {
   "display_name": "Python 3",
   "language": "python",
   "name": "python3"
  },
  "language_info": {
   "codemirror_mode": {
    "name": "ipython",
    "version": 3
   },
   "file_extension": ".py",
   "mimetype": "text/x-python",
   "name": "python",
   "nbconvert_exporter": "python",
   "pygments_lexer": "ipython3",
   "version": "3.6.1"
  }
 },
 "nbformat": 4,
 "nbformat_minor": 2
}
